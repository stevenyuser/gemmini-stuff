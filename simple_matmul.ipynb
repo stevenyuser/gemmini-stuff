{
 "cells": [
  {
   "cell_type": "code",
   "execution_count": null,
   "metadata": {},
   "outputs": [],
   "source": [
    "import numpy as np\n",
    "\n",
    "DIM = 2\n",
    "\n",
    "a = np.empty(shape=(DIM, DIM))\n",
    "b = np.empty(shape=(DIM, DIM))\n",
    "\n",
    "for i in range(DIM):\n",
    "    for j in range(DIM):\n",
    "        a[i][j] = i + j\n",
    "        b[i][j] = i * j\n",
    "\n",
    "c = a.dot(b)\n",
    "\n",
    "print(c)"
   ]
  }
 ],
 "metadata": {
  "language_info": {
   "name": "python"
  }
 },
 "nbformat": 4,
 "nbformat_minor": 2
}
