{
 "cells": [
  {
   "cell_type": "markdown",
   "metadata": {},
   "source": [
    "# simple matmul"
   ]
  },
  {
   "cell_type": "code",
   "execution_count": null,
   "metadata": {},
   "outputs": [],
   "source": [
    "import numpy as np\n",
    "\n",
    "DIM = 2\n",
    "\n",
    "a = np.empty(shape=(DIM, DIM))\n",
    "b = np.empty(shape=(DIM, DIM))\n",
    "\n",
    "for i in range(DIM):\n",
    "    for j in range(DIM):\n",
    "        a[i][j] = i + j\n",
    "        b[i][j] = i * j\n",
    "\n",
    "c = a.dot(b)\n",
    "\n",
    "print(c)"
   ]
  },
  {
   "cell_type": "markdown",
   "metadata": {},
   "source": [
    "# simple matmul 2 (2x2)"
   ]
  },
  {
   "cell_type": "code",
   "execution_count": null,
   "metadata": {},
   "outputs": [],
   "source": [
    "import numpy as np\n",
    "\n",
    "a = np.empty(shape=(2, 2))\n",
    "b = np.empty(shape=(2, 2))\n",
    "\n",
    "a[0][0] = 1\n",
    "a[0][1] = 2\n",
    "a[1][0] = 3\n",
    "a[1][1] = 4\n",
    "\n",
    "b[0][0] = 5\n",
    "b[0][1] = 6\n",
    "b[1][0] = 7\n",
    "b[1][1] = 8\n",
    "\n",
    "c = a.dot(b)\n",
    "\n",
    "print(c)"
   ]
  }
 ],
 "metadata": {
  "language_info": {
   "name": "python"
  }
 },
 "nbformat": 4,
 "nbformat_minor": 2
}
